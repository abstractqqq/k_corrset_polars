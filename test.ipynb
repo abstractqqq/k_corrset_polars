{
 "cells": [
  {
   "cell_type": "code",
   "execution_count": 1,
   "metadata": {},
   "outputs": [],
   "source": [
    "import polars as pl\n",
    "import math\n",
    "import numpy as np\n",
    "from itertools import combinations\n",
    "from tqdm import tqdm\n",
    "from typing import Optional"
   ]
  },
  {
   "cell_type": "code",
   "execution_count": 2,
   "metadata": {},
   "outputs": [
    {
     "name": "stdout",
     "output_type": "stream",
     "text": [
      "(300000, 3)\n"
     ]
    },
    {
     "data": {
      "text/html": [
       "<div><style>\n",
       ".dataframe > thead > tr > th,\n",
       ".dataframe > tbody > tr > td {\n",
       "  text-align: right;\n",
       "  white-space: pre-wrap;\n",
       "}\n",
       "</style>\n",
       "<small>shape: (5, 3)</small><table border=\"1\" class=\"dataframe\"><thead><tr><th>user</th><th>question</th><th>score</th></tr><tr><td>str</td><td>str</td><td>i64</td></tr></thead><tbody><tr><td>&quot;32121608-5d1b-…</td><td>&quot;80c01e0f-a88d-…</td><td>0</td></tr><tr><td>&quot;c6ef79b6-dff8-…</td><td>&quot;80c01e0f-a88d-…</td><td>0</td></tr><tr><td>&quot;7a241e06-be79-…</td><td>&quot;80c01e0f-a88d-…</td><td>1</td></tr><tr><td>&quot;098132c1-deb8-…</td><td>&quot;80c01e0f-a88d-…</td><td>0</td></tr><tr><td>&quot;80a35735-43fd-…</td><td>&quot;80c01e0f-a88d-…</td><td>0</td></tr></tbody></table></div>"
      ],
      "text/plain": [
       "shape: (5, 3)\n",
       "┌───────────────────────────────────┬───────────────────────────────────┬───────┐\n",
       "│ user                              ┆ question                          ┆ score │\n",
       "│ ---                               ┆ ---                               ┆ ---   │\n",
       "│ str                               ┆ str                               ┆ i64   │\n",
       "╞═══════════════════════════════════╪═══════════════════════════════════╪═══════╡\n",
       "│ 32121608-5d1b-4bda-9ff8-323afe47… ┆ 80c01e0f-a88d-48f6-a879-795d14b9… ┆ 0     │\n",
       "│ c6ef79b6-dff8-49c5-b4f2-51d07d20… ┆ 80c01e0f-a88d-48f6-a879-795d14b9… ┆ 0     │\n",
       "│ 7a241e06-be79-4a77-b67c-883d6c01… ┆ 80c01e0f-a88d-48f6-a879-795d14b9… ┆ 1     │\n",
       "│ 098132c1-deb8-448b-92c0-e8eba26b… ┆ 80c01e0f-a88d-48f6-a879-795d14b9… ┆ 0     │\n",
       "│ 80a35735-43fd-4a41-8f33-8bb79894… ┆ 80c01e0f-a88d-48f6-a879-795d14b9… ┆ 0     │\n",
       "└───────────────────────────────────┴───────────────────────────────────┴───────┘"
      ]
     },
     "execution_count": 2,
     "metadata": {},
     "output_type": "execute_result"
    }
   ],
   "source": [
    "df = pl.read_json(\"data-medium.json\")\n",
    "print(df.shape)\n",
    "df.head()"
   ]
  },
  {
   "cell_type": "code",
   "execution_count": 3,
   "metadata": {},
   "outputs": [],
   "source": [
    "def k_corrset(df:pl.DataFrame, k: int, u_col:str=\"user\", q_col:str=\"question\", score_col:str=\"score\"):\n",
    "\n",
    "    # Reduction: Only Keep Users who answer >= k questions\n",
    "    good_pop = df.group_by(\n",
    "        pl.col(u_col)\n",
    "    ).count().filter(\n",
    "        pl.col(\"count\") >= k\n",
    "    ).drop_in_place(u_col)\n",
    "\n",
    "    df_local = df.filter(\n",
    "        pl.col(u_col).is_in(good_pop)\n",
    "    ).sort(pl.col(u_col))\n",
    "\n",
    "    # Precompute grand totals\n",
    "    grand_totals = df_local.lazy().group_by(\n",
    "        pl.col(u_col)\n",
    "    ).agg(\n",
    "        pl.col(score_col).sum().alias(\"grand_totals\")\n",
    "    ).cache().collect().lazy()\n",
    "\n",
    "    batch_size = 1024\n",
    "    unique_questions = df_local.get_column(q_col).unique()\n",
    "    all_combs = list(combinations(unique_questions, k))\n",
    "    pbar = tqdm(total=len(all_combs))\n",
    "    top_subset: Optional[tuple] = None\n",
    "    top_corr: float = -1.0\n",
    "    for i in range(len(all_combs)//batch_size + 1):\n",
    "        combs = all_combs[i*batch_size: (i+1)*batch_size]\n",
    "        frames = (\n",
    "            df_local.lazy().filter(\n",
    "                pl.col(q_col).is_in(subset)\n",
    "            ).group_by(\n",
    "                pl.col(u_col).set_sorted()\n",
    "            ).agg(\n",
    "                pl.count(),\n",
    "                pl.col(score_col).sum().alias(\"qs_totals\")\n",
    "            ).filter(\n",
    "                pl.col(\"count\").eq(k)\n",
    "            ).select(\n",
    "                pl.col(u_col).set_sorted(),\n",
    "                pl.col(\"qs_totals\")\n",
    "            ).join(\n",
    "                grand_totals\n",
    "                , on = u_col\n",
    "            ).select(\n",
    "                pl.corr(pl.col(\"qs_totals\"), pl.col(\"grand_totals\")).alias(\"corr\")\n",
    "            )\n",
    "            for subset in combs\n",
    "        )\n",
    "\n",
    "        for i, frame in enumerate(pl.collect_all(frames)):\n",
    "            if len(frame) >= 1:\n",
    "                idx, corr = i, frame.item(0,0)\n",
    "                if corr is not None:\n",
    "                    if (not np.isnan(corr)) & (corr > top_corr):\n",
    "                        top_subset = combs[idx]\n",
    "                        top_corr = corr\n",
    "        \n",
    "        pbar.update(batch_size)\n",
    "\n",
    "    pbar.close()\n",
    "    return top_subset, top_corr\n",
    "\n",
    "# Not working\n",
    "# def k_corrset2(df:pl.DataFrame, k: int, u_col:str=\"user\", q_col:str=\"question\", score_col:str=\"score\"):\n",
    "\n",
    "#     # Reduction: Only Keep Users who answer >= k questions\n",
    "#     good_pop = df.group_by(\n",
    "#         pl.col(u_col)\n",
    "#     ).count().filter(\n",
    "#         pl.col(\"count\") >= k\n",
    "#     ).drop_in_place(u_col).sort().set_sorted()\n",
    "\n",
    "#     df_local = df.filter(\n",
    "#         pl.col(u_col).is_in(good_pop)\n",
    "#     ).sort(pl.col(u_col))\n",
    "\n",
    "#     # Precompute grand totals and reformat dataframe\n",
    "#     reference = df_local.lazy().groupby(\n",
    "#         pl.col(u_col)\n",
    "#         , maintain_order=True\n",
    "#     ).agg(\n",
    "#         pl.col(score_col).alias(\"all_scores\"), # This will be in a list\n",
    "#         pl.col(q_col).alias(\"all_questions\"), # This will be in a list\n",
    "#         pl.col(score_col).sum().alias(\"grand_totals\")\n",
    "#     ).collect()\n",
    "\n",
    "#     batch_size = 2048\n",
    "#     unique_questions = df_local.get_column(q_col).unique()\n",
    "#     all_combs = list(combinations(unique_questions, k))\n",
    "#     pbar = tqdm(total=len(all_combs))\n",
    "#     top_subset: Optional[tuple] = None\n",
    "#     top_corr: float = -1.0\n",
    "#     for i in range(len(all_combs)//batch_size + 1):\n",
    "#         combs = all_combs[i*batch_size: (i+1)*batch_size]\n",
    "        \n",
    "#         frames = (\n",
    "#             reference.lazy()\n",
    "#             .with_columns(\n",
    "#                 pl.col(\"all_questions\").explode().is_in(subset).cast(pl.UInt8).implode().alias(\"q_idx\")\n",
    "#             ).filter(\n",
    "#                 # Only users who answered all questions in subset are kept\n",
    "#                 pl.col(\"q_idx\").list.sum().first().eq(k)\n",
    "#             ).with_columns(\n",
    "#                 pl.col(\"all_scores\").explode().dot(\n",
    "#                     pl.col(\"q_idx\").explode()\n",
    "#                 ).alias(\"qs_totals\")\n",
    "#             ).select(\n",
    "#                 pl.corr(pl.col(\"qs_totals\"), pl.col(\"grand_totals\")).alias(\"corr\"),\n",
    "#             )\n",
    "#             for subset in combs\n",
    "#         )\n",
    "\n",
    "#         for i, frame in enumerate(pl.collect_all(frames)):\n",
    "#             if len(frame) >= 1:\n",
    "#                 idx, corr = i, frame.item(0,0)\n",
    "#                 if corr is not None:\n",
    "#                     if (not np.isnan(corr)) & (corr > top_corr):\n",
    "#                         top_subset = combs[idx]\n",
    "#                         top_corr = corr\n",
    "        \n",
    "#         pbar.update(batch_size)\n",
    "\n",
    "#     pbar.close()\n",
    "#     return top_subset, top_corr\n"
   ]
  },
  {
   "cell_type": "code",
   "execution_count": 4,
   "metadata": {},
   "outputs": [
    {
     "name": "stderr",
     "output_type": "stream",
     "text": [
      "  0%|          | 8192/75287520 [00:13<32:53:46, 635.67it/s]"
     ]
    },
    {
     "ename": "KeyboardInterrupt",
     "evalue": "",
     "output_type": "error",
     "traceback": [
      "\u001b[1;31m---------------------------------------------------------------------------\u001b[0m",
      "\u001b[1;31mKeyboardInterrupt\u001b[0m                         Traceback (most recent call last)",
      "\u001b[1;32mc:\\Users\\qtren\\Desktop\\MY\\PythonProjects\\ad-hoc\\test.ipynb Cell 4\u001b[0m line \u001b[0;36m1\n\u001b[1;32m----> <a href='vscode-notebook-cell:/c%3A/Users/qtren/Desktop/MY/PythonProjects/ad-hoc/test.ipynb#W3sZmlsZQ%3D%3D?line=0'>1</a>\u001b[0m k_corrset(df, \u001b[39m5\u001b[39;49m)\n",
      "\u001b[1;32mc:\\Users\\qtren\\Desktop\\MY\\PythonProjects\\ad-hoc\\test.ipynb Cell 4\u001b[0m line \u001b[0;36m5\n\u001b[0;32m     <a href='vscode-notebook-cell:/c%3A/Users/qtren/Desktop/MY/PythonProjects/ad-hoc/test.ipynb#W3sZmlsZQ%3D%3D?line=27'>28</a>\u001b[0m combs \u001b[39m=\u001b[39m all_combs[i\u001b[39m*\u001b[39mbatch_size: (i\u001b[39m+\u001b[39m\u001b[39m1\u001b[39m)\u001b[39m*\u001b[39mbatch_size]\n\u001b[0;32m     <a href='vscode-notebook-cell:/c%3A/Users/qtren/Desktop/MY/PythonProjects/ad-hoc/test.ipynb#W3sZmlsZQ%3D%3D?line=28'>29</a>\u001b[0m frames \u001b[39m=\u001b[39m (\n\u001b[0;32m     <a href='vscode-notebook-cell:/c%3A/Users/qtren/Desktop/MY/PythonProjects/ad-hoc/test.ipynb#W3sZmlsZQ%3D%3D?line=29'>30</a>\u001b[0m     df_local\u001b[39m.\u001b[39mlazy()\u001b[39m.\u001b[39mfilter(\n\u001b[0;32m     <a href='vscode-notebook-cell:/c%3A/Users/qtren/Desktop/MY/PythonProjects/ad-hoc/test.ipynb#W3sZmlsZQ%3D%3D?line=30'>31</a>\u001b[0m         pl\u001b[39m.\u001b[39mcol(q_col)\u001b[39m.\u001b[39mis_in(subset)\n\u001b[1;32m   (...)\u001b[0m\n\u001b[0;32m     <a href='vscode-notebook-cell:/c%3A/Users/qtren/Desktop/MY/PythonProjects/ad-hoc/test.ipynb#W3sZmlsZQ%3D%3D?line=47'>48</a>\u001b[0m     \u001b[39mfor\u001b[39;00m subset \u001b[39min\u001b[39;00m combs\n\u001b[0;32m     <a href='vscode-notebook-cell:/c%3A/Users/qtren/Desktop/MY/PythonProjects/ad-hoc/test.ipynb#W3sZmlsZQ%3D%3D?line=48'>49</a>\u001b[0m )\n\u001b[1;32m---> <a href='vscode-notebook-cell:/c%3A/Users/qtren/Desktop/MY/PythonProjects/ad-hoc/test.ipynb#W3sZmlsZQ%3D%3D?line=50'>51</a>\u001b[0m \u001b[39mfor\u001b[39;00m i, frame \u001b[39min\u001b[39;00m \u001b[39menumerate\u001b[39m(pl\u001b[39m.\u001b[39;49mcollect_all(frames)):\n\u001b[0;32m     <a href='vscode-notebook-cell:/c%3A/Users/qtren/Desktop/MY/PythonProjects/ad-hoc/test.ipynb#W3sZmlsZQ%3D%3D?line=51'>52</a>\u001b[0m     \u001b[39mif\u001b[39;00m \u001b[39mlen\u001b[39m(frame) \u001b[39m>\u001b[39m\u001b[39m=\u001b[39m \u001b[39m1\u001b[39m:\n\u001b[0;32m     <a href='vscode-notebook-cell:/c%3A/Users/qtren/Desktop/MY/PythonProjects/ad-hoc/test.ipynb#W3sZmlsZQ%3D%3D?line=52'>53</a>\u001b[0m         idx, corr \u001b[39m=\u001b[39m i, frame\u001b[39m.\u001b[39mitem(\u001b[39m0\u001b[39m,\u001b[39m0\u001b[39m)\n",
      "File \u001b[1;32mc:\\Users\\qtren\\miniconda3\\envs\\my_py11\\Lib\\site-packages\\polars\\utils\\deprecation.py:96\u001b[0m, in \u001b[0;36mdeprecate_renamed_parameter.<locals>.decorate.<locals>.wrapper\u001b[1;34m(*args, **kwargs)\u001b[0m\n\u001b[0;32m     91\u001b[0m \u001b[39m@wraps\u001b[39m(function)\n\u001b[0;32m     92\u001b[0m \u001b[39mdef\u001b[39;00m \u001b[39mwrapper\u001b[39m(\u001b[39m*\u001b[39margs: P\u001b[39m.\u001b[39margs, \u001b[39m*\u001b[39m\u001b[39m*\u001b[39mkwargs: P\u001b[39m.\u001b[39mkwargs) \u001b[39m-\u001b[39m\u001b[39m>\u001b[39m T:\n\u001b[0;32m     93\u001b[0m     _rename_keyword_argument(\n\u001b[0;32m     94\u001b[0m         old_name, new_name, kwargs, function\u001b[39m.\u001b[39m\u001b[39m__name__\u001b[39m, version\n\u001b[0;32m     95\u001b[0m     )\n\u001b[1;32m---> 96\u001b[0m     \u001b[39mreturn\u001b[39;00m function(\u001b[39m*\u001b[39;49margs, \u001b[39m*\u001b[39;49m\u001b[39m*\u001b[39;49mkwargs)\n",
      "File \u001b[1;32mc:\\Users\\qtren\\miniconda3\\envs\\my_py11\\Lib\\site-packages\\polars\\functions\\lazy.py:1646\u001b[0m, in \u001b[0;36mcollect_all\u001b[1;34m(lazy_frames, type_coercion, predicate_pushdown, projection_pushdown, simplify_expression, no_optimization, slice_pushdown, comm_subplan_elim, comm_subexpr_elim, streaming)\u001b[0m\n\u001b[0;32m   1633\u001b[0m     ldf \u001b[39m=\u001b[39m lf\u001b[39m.\u001b[39m_ldf\u001b[39m.\u001b[39moptimization_toggle(\n\u001b[0;32m   1634\u001b[0m         type_coercion,\n\u001b[0;32m   1635\u001b[0m         predicate_pushdown,\n\u001b[1;32m   (...)\u001b[0m\n\u001b[0;32m   1642\u001b[0m         _eager\u001b[39m=\u001b[39m\u001b[39mFalse\u001b[39;00m,\n\u001b[0;32m   1643\u001b[0m     )\n\u001b[0;32m   1644\u001b[0m     prepared\u001b[39m.\u001b[39mappend(ldf)\n\u001b[1;32m-> 1646\u001b[0m out \u001b[39m=\u001b[39m plr\u001b[39m.\u001b[39;49mcollect_all(prepared)\n\u001b[0;32m   1648\u001b[0m \u001b[39m# wrap the pydataframes into dataframe\u001b[39;00m\n\u001b[0;32m   1649\u001b[0m result \u001b[39m=\u001b[39m [wrap_df(pydf) \u001b[39mfor\u001b[39;00m pydf \u001b[39min\u001b[39;00m out]\n",
      "\u001b[1;31mKeyboardInterrupt\u001b[0m: "
     ]
    }
   ],
   "source": [
    "k_corrset(df, 5)"
   ]
  },
  {
   "cell_type": "code",
   "execution_count": null,
   "metadata": {},
   "outputs": [],
   "source": []
  }
 ],
 "metadata": {
  "kernelspec": {
   "display_name": "my_py9",
   "language": "python",
   "name": "python3"
  },
  "language_info": {
   "codemirror_mode": {
    "name": "ipython",
    "version": 3
   },
   "file_extension": ".py",
   "mimetype": "text/x-python",
   "name": "python",
   "nbconvert_exporter": "python",
   "pygments_lexer": "ipython3",
   "version": "3.11.3"
  }
 },
 "nbformat": 4,
 "nbformat_minor": 2
}
